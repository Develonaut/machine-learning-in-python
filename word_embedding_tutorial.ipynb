{
 "cells": [
  {
   "cell_type": "markdown",
   "metadata": {},
   "source": [
    "# Word Embedding Tutorial"
   ]
  },
  {
   "cell_type": "markdown",
   "metadata": {},
   "source": [
    "## What you can expect from this tutorial\n",
    "At the end of this notebook, you'll have an understanding of\n",
    "- what is a word vector, and why do I need one?\n",
    "- how to get word vectors\n",
    "    - distributional semantics: simple counts\n",
    "    - word embeddings: neural methods\n",
    "- how to use word embeddings\n",
    "    - finding similar terms\n",
    "    - combining concepts and searching for terms between them, \"more like me\"\n",
    "    - using negative examples to complete analogy questions (sometimes)"
   ]
  },
  {
   "cell_type": "markdown",
   "metadata": {},
   "source": [
    "## What's out-of-scope for this tutorial?\n",
    "You won't learn about\n",
    "- different methods for training neural word embeddings\n",
    "    - CBOW/Skip-gram\n",
    "    - Word2Vec\n",
    "    - How FastText works\n",
    "- Using word embeddings for downstream classification tasks\n",
    "- Measuring the goodness of your embedding model\n",
    "    - detecting unethical bias in your model\n",
    "    - comparing one word embedding model to another to determine which is better"
   ]
  },
  {
   "cell_type": "code",
   "execution_count": 1,
   "metadata": {},
   "outputs": [],
   "source": [
    "# let's start a dictionary so we can store definitions for words we don't know\n",
    "d = {}"
   ]
  },
  {
   "cell_type": "markdown",
   "metadata": {},
   "source": [
    "## Why do we need word vectors?\n",
    "Remember feature vectors? We have this list of numbers that represents an instance of data. This numerical representation allows us to make predictions using predictive modeling algorithms. \n",
    "\n",
    "Consider the feature vectors for cars.\n",
    "\n",
    "|   instances   | is_red      | has_4_wheel_drive | label |\n",
    "| ------------- | ----------- | ----------- | ---------|\n",
    "| instance_1    | 0           | 1 | truck |\n",
    "| instance_2    | 1           | 0 | car |\n",
    "\n",
    "A word vector is a way to represent the features of this word and (maybe) use in a downstream modeling task. Word vectors allow us to represent the meaning of a word numerically. With this vector represation of a word's semantics, we can easily give this information to predictive models.\n",
    "\n",
    "A word vector might look like this\n",
    "\n",
    "|   words   | appeared_near_yum      | appeared_near_red |\n",
    "| ------------- | ----------- | ----------- |\n",
    "| apple    | 1           | 1 |\n",
    "| applesauce    | 1           | 0 |\n",
    "| firetruck | 0 | 1 |\n",
    "\n",
    "This is in accordance with the hypothesis of [distributional semantics](https://en.wikipedia.org/wiki/Distributional_semantics#:~:targetText=Distributional%20semantics%20is%20a%20research,large%20samples%20of%20language%20data.): _linguistic items with similar distributions have similar meanings_\n",
    "\n",
    "A _word vector_ uses the distributional hypothesis. Each word vector represents a word with a very high-dimensional sparse vector, where each dimension reflects a context in which the word occurred in the corpus. For example, a context could be another word that appeared in proximity.\n",
    "\n",
    "A _word embedding_ represents a word with a low-dimensional vector (e.g. 100 dimensions). The dimensions are usually latent, and often obtained using the information as in the distributional semantics approach (e.g. LSA, word2vec). ([source](https://www.quora.com/Whats-the-difference-between-word-vectors-word-representations-and-vector-embeddings))\n",
    "\n",
    "Word embeddings are often used as a feature extraction technique. But the embeddings themselves are useful too!"
   ]
  },
  {
   "cell_type": "code",
   "execution_count": 2,
   "metadata": {},
   "outputs": [],
   "source": [
    "# update the definition dictionary with new terms \n",
    "# distributional hypothesis, distrubtional semantics, word vector, word embedding\n",
    "d[\"distributional hypothesis\"] = \"linguistic items with similar distributions have similar meanings\"\n",
    "d[\"distributional semantics\"] = \"linguistic theory that relies on dist. hypothesis\"\n",
    "d[\"word vector\"] = \"high dimensianal sparse vector that represents a word. Dimensions have real-world  meaning  and are equal to  the vocab length\"\n",
    "d[\"word embedding\"] = \"a low dimensional vector that represents a word. Dimensions are abstract\""
   ]
  },
  {
   "cell_type": "code",
   "execution_count": 3,
   "metadata": {},
   "outputs": [],
   "source": [
    "# you may want these imports for the next coding section\n",
    "from collections import defaultdict\n",
    "import numpy as np\n",
    "import os"
   ]
  },
  {
   "cell_type": "code",
   "execution_count": 17,
   "metadata": {},
   "outputs": [],
   "source": [
    "# implement this simple way to make a word vector using a corpus\n",
    "'''\n",
    "----------------------------------------------\n",
    "Objective: make word vectors using context\n",
    "----------------------------------------------\n",
    "create a function that takes a file of sentences and returns\n",
    "a dictonary mapping each word in the corpus to its vector\n",
    "```\n",
    ">>> vectors = make_simple_word_vectors(filename)\n",
    ">>> vectors['dog']\n",
    "np.array([0., 0., 0., 0., 0., 0., 2., 0., 0., 0., \n",
    "         0., 0., 0., 1., 1., 0., 4., 0., 0., 0.])\n",
    "```\n",
    "To make sure everyone has the same columns, use a helper function,\n",
    "`make_vocab(filename)` which returns a map of the vocab item to the index\n",
    "of the column it corresponds to. Sort the vocab so that the index of 'a' is 0\n",
    "```\n",
    ">>> vocab = make_vocab(filename)\n",
    ">>> vocab['a']\n",
    "0\n",
    ">>> vocab['dog']\n",
    "9\n",
    "```\n",
    "You're welcome to use other helper methods.\n",
    "\n",
    "For your corpus, use the file: data/10_sentences.txt\n",
    "'''\n",
    "\n",
    "def make_vocab(filename):\n",
    "    \"\"\"\n",
    "    :param filename: the location fo the file with the word data to build vectors from\n",
    "    :return: dictionary mapping each vocab item to it's index\n",
    "    \"\"\"\n",
    "    vocab = set()\n",
    "    with open(filename, 'r') as f:\n",
    "        for line in  f:\n",
    "            words = line.lower().split()\n",
    "            vocab.update(words)\n",
    "            \n",
    "    sorted_vocab = sorted(vocab)\n",
    "    \n",
    "    dictionary = {}\n",
    "    for i, word in enumerate(sorted_vocab):\n",
    "        dictionary[word] =  i\n",
    "    return dictionary\n",
    "\n",
    "def make_simple_word_vectors(filename, window_size=2):\n",
    "    \"\"\"\n",
    "    :param filename: the location of the file with word data to build vectors from\n",
    "                     the file should be formatted with each sentence on a line\n",
    "    :param window_size: how far to the left and right of a word to look for context\n",
    "                        for window_size=2, we look 2 words to the left, and 2 words right\n",
    "    :return: dictionary mapping a word to its vector\n",
    "             the columns in the vector should be ordered alphabetically\n",
    "    \"\"\"\n",
    "    vocab = make_vocab(filename)\n",
    "    num_words  = len(vocab)\n",
    "    \n",
    "    vectors =  defaultdict(lambda: np.zeros(num_words))\n",
    "    with open(filename, 'r') as f:\n",
    "        for line in f:\n",
    "            words =  line.lower().split()\n",
    "            for i, word in enumerate(words):\n",
    "                before_index = max(i - window_size, 0)\n",
    "                after_index = min(i + window_size, len(words))\n",
    "\n",
    "                for x in range(before_index, after_index):\n",
    "                    if x == i: continue\n",
    "                    index = vocab[words[x]]\n",
    "                    vectors[word][index] += 1\n",
    "                    \n",
    "    return vectors\n",
    "                    \n",
    "\n",
    "# always debug with a small file first\n",
    "small_file = os.path.join('data', '10_sentences.txt')\n",
    "vocab = make_vocab(small_file)\n",
    "assert(len(vocab) == 20)\n",
    "\n",
    "word_to_vector_map = make_simple_word_vectors(small_file)\n",
    "assert(np.array_equal(word_to_vector_map['dog'],\n",
    "                      np.array([0., 0., 0., 0., 0., 0., 2., 0., 0., 0., \n",
    "                                0., 0., 0., 1., 1., 0., 4., 0., 0., 0.])))"
   ]
  },
  {
   "cell_type": "markdown",
   "metadata": {},
   "source": [
    "## We've incorporated a word's context into the feature vector\n",
    "> _\"You shall know a word by the company it keeps.\" - John Rupert Firth_\n",
    "\n",
    "We need the word vector to capture the similarity between words. From linguistics, a simple approach is to say that words that fall in similar contexts have similar meanings. The word vectors we've created capture this notion of contextually similar terms. "
   ]
  },
  {
   "cell_type": "markdown",
   "metadata": {},
   "source": [
    "## Pros and Cons\n",
    "\n",
    "Pros\n",
    " - captures the context of words\n",
    " \n",
    "Cons\n",
    " - [homographs](https://en.wikipedia.org/wiki/Homograph) have the same vector\n",
    " - [sparse vectors](https://en.wikipedia.org/wiki/Sparse_matrix) are expensive\n",
    "     - could do a dimensionality reduction technique like [SVD](https://en.wikipedia.org/wiki/Singular_value_decomposition)\n",
    "     \n",
    "In practice, the sparsity of the vectors on large corpora make using them impossible. \n",
    "(That's why we only used 10 sentences.)"
   ]
  },
  {
   "cell_type": "code",
   "execution_count": null,
   "metadata": {},
   "outputs": [],
   "source": [
    "# update dictionary of new terms\n",
    "# homograph, sparse vector\n",
    "# don't worry about SVD - not important for what we're doing\n",
    "d[\"homograph\"] = \"words that are spelled the same but have different meaning\"\n",
    "d[\"sparse vector\"] = \"too many 0s\""
   ]
  },
  {
   "cell_type": "markdown",
   "metadata": {},
   "source": [
    "## Neural Word Embeddings\n",
    "In practice, the count method can be improved upon, both computatationally and theoretically.\n",
    "\n",
    "Instead of counting up words near other words, let's use a neural network to get word embeddings."
   ]
  },
  {
   "cell_type": "markdown",
   "metadata": {},
   "source": [
    "_But... don't we need labeled data?_"
   ]
  },
  {
   "cell_type": "markdown",
   "metadata": {},
   "source": [
    "This is a form of [semi-supervised learning](https://en.wikipedia.org/wiki/Semi-supervised_learning#:~:targetText=Semi%2Dsupervised%20learning%20is%20a,large%20amount%20of%20unlabeled%20data.), which makes use of unlabeled data for training."
   ]
  },
  {
   "cell_type": "code",
   "execution_count": null,
   "metadata": {},
   "outputs": [],
   "source": [
    "# update dictionary of new terms\n",
    "# semi-supervised learning\n",
    "d[\"semi-supervised learning\"] = \"collection of ML algorithms that use data the 'labels' itself\""
   ]
  },
  {
   "cell_type": "markdown",
   "metadata": {},
   "source": [
    "_So... what are we predicting then?_"
   ]
  },
  {
   "cell_type": "markdown",
   "metadata": {},
   "source": [
    "Let's hide one of the words in a data instance.\n",
    "\n",
    "> I need to feed my ____ today\n",
    "\n",
    "Humans have no problem knowing what kinds of words might fill this blank, and knowing words that do _not_ fit in this blank. Let's train a neural network to predict this missing word given the context. This method is called CBOW, and we'll go into more depth in day 2. \n",
    "\n",
    "![CBOW](figures/word2vec-cbow.png)"
   ]
  },
  {
   "cell_type": "markdown",
   "metadata": {},
   "source": [
    "_Okay, great, we have this model that fills in the blanks. How does that get us word vectors?_"
   ]
  },
  {
   "cell_type": "markdown",
   "metadata": {},
   "source": [
    "We use the Weight matrix W. Each row in this weight matrix corresponds to a word in the vocab from the corpus a model was trained on.\n",
    "\n",
    "![weight_matrix](figures/weight-matrix.png)"
   ]
  },
  {
   "cell_type": "code",
   "execution_count": 18,
   "metadata": {},
   "outputs": [
    {
     "name": "stdout",
     "output_type": "stream",
     "text": [
      "hello_embedding = [-3.2  -0.89  0.89  0.19]\n"
     ]
    }
   ],
   "source": [
    "# say we have a weight matrix W and a one-hot encoding for \"hello\"\n",
    "W = np.array([[.47, .56, .98, -.23],\n",
    "              [-.21, -.79, -.99, 1.2],\n",
    "              [-3.2, -.09, .09, .19],\n",
    "              [-3.2, -.89, .89, .19],\n",
    "             ])\n",
    "hello = np.array([0, 0, 0, 1])\n",
    "# QUIZ: how many words are in the vocab?\n",
    "# to get the word embedding for hello, we need to multiply\n",
    "hello_embedding = np.matmul(hello, W)\n",
    "print(f\"hello_embedding = {hello_embedding}\")"
   ]
  },
  {
   "cell_type": "markdown",
   "metadata": {},
   "source": [
    "Let's implement a neural word embedding model using [FastText](https://arxiv.org/pdf/1607.04606.pdf). \n",
    "\n",
    "But first, we need to implement something to preprocess the data more efficiently. Holding all the data in memory at once may lead to a memory error. Instead we want to stream the data, only looking at one line in the file at a time.\n",
    "\n",
    "### Iterators and Generators in Python\n",
    "Python cares more about how objects behave rather than what they are. \n",
    "\n",
    "For instance, you can iterate through a list, and you can iterate through a dictionary's keys and values. These objects are _iterable_. They have a class method `__iter__()` and can be called like `for x in iterable:`. \n",
    "\n",
    "![Generators and Iterators](figures/iterators.png)\n",
    "\n",
    "[Reference](https://nvie.com/posts/iterators-vs-generators/)\n",
    "\n",
    "Generators are iterators, but instead of holding every line in memory, they compute it on the fly. They still have an `__iter__()` class method and word in `for x in generator:` calls, but they are much less memory intensive. \n",
    "\n",
    "Generators make use of the `yield` keyword, which then returns to the outer call of iteration with only that line. When the iterable needs to call the next item, it returns to the line immediately after the yield and continues. \n",
    "\n",
    "If a `return` statement is present in a generator function, then a `StopIteration` is raised, and the iteration is halted. "
   ]
  },
  {
   "cell_type": "code",
   "execution_count": null,
   "metadata": {},
   "outputs": [],
   "source": [
    "# generator examples\n",
    "\n",
    "def my_generator():\n",
    "    yield 1\n",
    "    yield 2\n",
    "    \n",
    "for x in my_generator():\n",
    "    print(f\"x={x}\")"
   ]
  },
  {
   "cell_type": "code",
   "execution_count": null,
   "metadata": {},
   "outputs": [],
   "source": [
    "nums = my_generator()\n",
    "\n",
    "for x in nums:\n",
    "    print(f\"x={x}\")\n",
    "    \n",
    "for x in nums:\n",
    "    print(f\"x={x}\")\n",
    "    \n",
    "print(\"done\")"
   ]
  },
  {
   "cell_type": "markdown",
   "metadata": {},
   "source": [
    "#### Quiz: Why didn't it go through twice?\n",
    "\n",
    "For this reason, we'll create a class that has an `__iter__()` method that we'll override. This way, every time we call `for sent in sentences:`, we'll have data."
   ]
  },
  {
   "cell_type": "code",
   "execution_count": 22,
   "metadata": {},
   "outputs": [
    {
     "name": "stdout",
     "output_type": "stream",
     "text": [
      "['0']\n",
      "['season', '1']\n",
      "['winter', 'is', 'coming']\n",
      "['do', 'the', 'dead', 'frighten', 'you?']\n",
      "['gared']\n",
      "['1']\n"
     ]
    }
   ],
   "source": [
    "# See Day 2's tutorial for more algorithms to train word embeddings\n",
    "# for more on different training algorithms\n",
    "\n",
    "'''\n",
    "-------------------------------------------------------\n",
    "Objective: create a generator for better performance\n",
    "-------------------------------------------------------\n",
    "first, we need to preprocess the data. \n",
    "\n",
    "The input to FastText is an iterable of sentences \n",
    "where a sentence is formatted as: \n",
    "`['this', 'is', 'a', 'sample', 'sentence']`\n",
    "\n",
    "So you could use a list of sentences \n",
    "```\n",
    "sentences = [\n",
    "    ['this', 'is', 'a', 'sample', 'sentence'],\n",
    "    ['this', 'is', 'another', 'sample', 'sentence'],\n",
    "]\n",
    "```\n",
    "but holding all of the corpus's sentences in memory at once is expensive.\n",
    "You might hit a memory error.\n",
    "\n",
    "Instead, let's use a generator that yields data on the fly.\n",
    "\n",
    "Create a class `Sentences` that can be iterated through to train a model.\n",
    "Make sure your object yields preprocessed data. \n",
    "That might mean all lowercase, no punctuation, but you can make your own choices\n",
    "with what you think will work best.\n",
    "\n",
    "```\n",
    ">>> corpus = os.path.join('data', 'got_scripts_breakdown.csv')\n",
    ">>> sentences = Sentences(filename=corpus,\n",
    "                          delim=';',\n",
    "                          encoding='utf-8-sig',\n",
    "                          limit=5,\n",
    "                          )\n",
    ">>> for sent in sentences:\n",
    "        print(sent)\n",
    "['what', 'd’you', 'expect', 'they’re', 'savages', 'one', 'lot', 'steals', 'a', 'goat', \n",
    " 'from', 'another', 'lot', 'and', 'before', 'you', 'know', 'it', 'they’re', 'ripping', \n",
    " 'each', 'other', 'to', 'pieces']\n",
    "['i’ve', 'never', 'seen', 'wildlings', 'do', 'a', 'thing', 'like', 'this', 'i’ve', \n",
    " 'never', 'seen', 'a', 'thing', 'like', 'this', 'not', 'ever', 'in', 'my', 'life']\n",
    "['how', 'close', 'did', 'you', 'get']\n",
    "['close', 'as', 'any', 'man', 'would']\n",
    "['we', 'should', 'head', 'back', 'to', 'the', 'wall']\n",
    "```\n",
    "'''\n",
    "\n",
    "import string\n",
    "\n",
    "\n",
    "class Sentences:\n",
    "    def __init__(self, filename, delim, encoding, limit=float('inf')):\n",
    "        self.filename = filename\n",
    "        self.delim = delim\n",
    "        self.encoding = encoding\n",
    "        self.limit = limit\n",
    "        \n",
    "    def preprocess(self, line, delim, sent_index):\n",
    "        line = line.lower()\n",
    "        columns = line.split(self.delim)\n",
    "        sentence = columns[sent_index]\n",
    "        words = sentence.split()\n",
    "        return words\n",
    "        \n",
    "    def __iter__(self):\n",
    "        with open(self.filename, 'r') as f:\n",
    "            # header we need to skip\n",
    "            line = next(f)\n",
    "            cols = line.split(self.delim)\n",
    "            sent_index = cols.index(\"Sentence\")\n",
    "            # need to extract the right column for snetence\n",
    "            \n",
    "            for i, line in enumerate(f):\n",
    "                if i > self.limit:\n",
    "                    return\n",
    "                yield self.preprocess(line, self.delim, i)\n",
    "        \n",
    "                \n",
    "\n",
    "got_dialogue_file = os.path.join('data', 'got_scripts_breakdown.csv')\n",
    "sents = Sentences(filename=got_dialogue_file, \n",
    "                  delim=';', \n",
    "                  encoding='utf-8-sig',\n",
    "                  limit=5)\n",
    "for sent in sents:\n",
    "    print(sent)"
   ]
  },
  {
   "cell_type": "markdown",
   "metadata": {},
   "source": [
    "Great, our data is preprocessed, and now we're ready to train a model.\n",
    "Check out [gensim's documentation](https://radimrehurek.com/gensim/models/fasttext.html) too for more information on the hyperparameters you can tune while training. "
   ]
  },
  {
   "cell_type": "code",
   "execution_count": 26,
   "metadata": {},
   "outputs": [
    {
     "ename": "IndexError",
     "evalue": "list index out of range",
     "output_type": "error",
     "traceback": [
      "\u001b[1;31m---------------------------------------------------------------------------\u001b[0m",
      "\u001b[1;31mIndexError\u001b[0m                                Traceback (most recent call last)",
      "\u001b[1;32m<ipython-input-26-763cb964374d>\u001b[0m in \u001b[0;36m<module>\u001b[1;34m\u001b[0m\n\u001b[0;32m      9\u001b[0m \u001b[0msentences\u001b[0m \u001b[1;33m=\u001b[0m \u001b[0mSentences\u001b[0m\u001b[1;33m(\u001b[0m\u001b[0mgot_dialogue_file\u001b[0m\u001b[1;33m,\u001b[0m \u001b[0mdelim\u001b[0m\u001b[1;33m=\u001b[0m\u001b[1;34m\";\"\u001b[0m\u001b[1;33m,\u001b[0m \u001b[0mencoding\u001b[0m\u001b[1;33m=\u001b[0m\u001b[1;34m\"utf-8-sig\"\u001b[0m\u001b[1;33m)\u001b[0m\u001b[1;33m\u001b[0m\u001b[1;33m\u001b[0m\u001b[0m\n\u001b[0;32m     10\u001b[0m \u001b[0mmodel\u001b[0m \u001b[1;33m=\u001b[0m \u001b[0mFastText\u001b[0m\u001b[1;33m(\u001b[0m\u001b[0msize\u001b[0m\u001b[1;33m=\u001b[0m\u001b[1;36m100\u001b[0m\u001b[1;33m,\u001b[0m \u001b[0mwindow\u001b[0m\u001b[1;33m=\u001b[0m\u001b[1;36m8\u001b[0m\u001b[1;33m,\u001b[0m \u001b[0mmin_count\u001b[0m\u001b[1;33m=\u001b[0m\u001b[1;36m4\u001b[0m\u001b[1;33m)\u001b[0m\u001b[1;33m\u001b[0m\u001b[1;33m\u001b[0m\u001b[0m\n\u001b[1;32m---> 11\u001b[1;33m \u001b[0mmodel\u001b[0m\u001b[1;33m.\u001b[0m\u001b[0mbuild_vocab\u001b[0m\u001b[1;33m(\u001b[0m\u001b[0msentences\u001b[0m\u001b[1;33m)\u001b[0m\u001b[1;33m\u001b[0m\u001b[1;33m\u001b[0m\u001b[0m\n\u001b[0m\u001b[0;32m     12\u001b[0m \u001b[0mmodel\u001b[0m\u001b[1;33m.\u001b[0m\u001b[0mtrain\u001b[0m\u001b[1;33m(\u001b[0m\u001b[0msentences\u001b[0m\u001b[1;33m=\u001b[0m\u001b[0msentences\u001b[0m\u001b[1;33m,\u001b[0m \u001b[0mtotal_examples\u001b[0m\u001b[1;33m=\u001b[0m\u001b[0mmodel\u001b[0m\u001b[1;33m.\u001b[0m\u001b[0mcorpus_count\u001b[0m\u001b[1;33m,\u001b[0m \u001b[0mepochs\u001b[0m\u001b[1;33m=\u001b[0m\u001b[1;36m100\u001b[0m\u001b[1;33m)\u001b[0m\u001b[1;33m\u001b[0m\u001b[1;33m\u001b[0m\u001b[0m\n",
      "\u001b[1;32m~\\AppData\\Local\\Continuum\\anaconda3\\lib\\site-packages\\gensim\\models\\fasttext.py\u001b[0m in \u001b[0;36mbuild_vocab\u001b[1;34m(self, sentences, corpus_file, update, progress_per, keep_raw_vocab, trim_rule, **kwargs)\u001b[0m\n\u001b[0;32m    723\u001b[0m         retval = super(FastText, self).build_vocab(\n\u001b[0;32m    724\u001b[0m             \u001b[0msentences\u001b[0m\u001b[1;33m=\u001b[0m\u001b[0msentences\u001b[0m\u001b[1;33m,\u001b[0m \u001b[0mcorpus_file\u001b[0m\u001b[1;33m=\u001b[0m\u001b[0mcorpus_file\u001b[0m\u001b[1;33m,\u001b[0m \u001b[0mupdate\u001b[0m\u001b[1;33m=\u001b[0m\u001b[0mupdate\u001b[0m\u001b[1;33m,\u001b[0m \u001b[0mprogress_per\u001b[0m\u001b[1;33m=\u001b[0m\u001b[0mprogress_per\u001b[0m\u001b[1;33m,\u001b[0m\u001b[1;33m\u001b[0m\u001b[1;33m\u001b[0m\u001b[0m\n\u001b[1;32m--> 725\u001b[1;33m             keep_raw_vocab=keep_raw_vocab, trim_rule=trim_rule, **kwargs)\n\u001b[0m\u001b[0;32m    726\u001b[0m \u001b[1;33m\u001b[0m\u001b[0m\n\u001b[0;32m    727\u001b[0m         \u001b[1;32mif\u001b[0m \u001b[0mupdate\u001b[0m\u001b[1;33m:\u001b[0m\u001b[1;33m\u001b[0m\u001b[1;33m\u001b[0m\u001b[0m\n",
      "\u001b[1;32m~\\AppData\\Local\\Continuum\\anaconda3\\lib\\site-packages\\gensim\\models\\base_any2vec.py\u001b[0m in \u001b[0;36mbuild_vocab\u001b[1;34m(self, sentences, corpus_file, update, progress_per, keep_raw_vocab, trim_rule, **kwargs)\u001b[0m\n\u001b[0;32m    934\u001b[0m         \"\"\"\n\u001b[0;32m    935\u001b[0m         total_words, corpus_count = self.vocabulary.scan_vocab(\n\u001b[1;32m--> 936\u001b[1;33m             sentences=sentences, corpus_file=corpus_file, progress_per=progress_per, trim_rule=trim_rule)\n\u001b[0m\u001b[0;32m    937\u001b[0m         \u001b[0mself\u001b[0m\u001b[1;33m.\u001b[0m\u001b[0mcorpus_count\u001b[0m \u001b[1;33m=\u001b[0m \u001b[0mcorpus_count\u001b[0m\u001b[1;33m\u001b[0m\u001b[1;33m\u001b[0m\u001b[0m\n\u001b[0;32m    938\u001b[0m         \u001b[0mself\u001b[0m\u001b[1;33m.\u001b[0m\u001b[0mcorpus_total_words\u001b[0m \u001b[1;33m=\u001b[0m \u001b[0mtotal_words\u001b[0m\u001b[1;33m\u001b[0m\u001b[1;33m\u001b[0m\u001b[0m\n",
      "\u001b[1;32m~\\AppData\\Local\\Continuum\\anaconda3\\lib\\site-packages\\gensim\\models\\word2vec.py\u001b[0m in \u001b[0;36mscan_vocab\u001b[1;34m(self, sentences, corpus_file, progress_per, workers, trim_rule)\u001b[0m\n\u001b[0;32m   1590\u001b[0m             \u001b[0msentences\u001b[0m \u001b[1;33m=\u001b[0m \u001b[0mLineSentence\u001b[0m\u001b[1;33m(\u001b[0m\u001b[0mcorpus_file\u001b[0m\u001b[1;33m)\u001b[0m\u001b[1;33m\u001b[0m\u001b[1;33m\u001b[0m\u001b[0m\n\u001b[0;32m   1591\u001b[0m \u001b[1;33m\u001b[0m\u001b[0m\n\u001b[1;32m-> 1592\u001b[1;33m         \u001b[0mtotal_words\u001b[0m\u001b[1;33m,\u001b[0m \u001b[0mcorpus_count\u001b[0m \u001b[1;33m=\u001b[0m \u001b[0mself\u001b[0m\u001b[1;33m.\u001b[0m\u001b[0m_scan_vocab\u001b[0m\u001b[1;33m(\u001b[0m\u001b[0msentences\u001b[0m\u001b[1;33m,\u001b[0m \u001b[0mprogress_per\u001b[0m\u001b[1;33m,\u001b[0m \u001b[0mtrim_rule\u001b[0m\u001b[1;33m)\u001b[0m\u001b[1;33m\u001b[0m\u001b[1;33m\u001b[0m\u001b[0m\n\u001b[0m\u001b[0;32m   1593\u001b[0m \u001b[1;33m\u001b[0m\u001b[0m\n\u001b[0;32m   1594\u001b[0m         logger.info(\n",
      "\u001b[1;32m~\\AppData\\Local\\Continuum\\anaconda3\\lib\\site-packages\\gensim\\models\\word2vec.py\u001b[0m in \u001b[0;36m_scan_vocab\u001b[1;34m(self, sentences, progress_per, trim_rule)\u001b[0m\n\u001b[0;32m   1559\u001b[0m         \u001b[0mvocab\u001b[0m \u001b[1;33m=\u001b[0m \u001b[0mdefaultdict\u001b[0m\u001b[1;33m(\u001b[0m\u001b[0mint\u001b[0m\u001b[1;33m)\u001b[0m\u001b[1;33m\u001b[0m\u001b[1;33m\u001b[0m\u001b[0m\n\u001b[0;32m   1560\u001b[0m         \u001b[0mchecked_string_types\u001b[0m \u001b[1;33m=\u001b[0m \u001b[1;36m0\u001b[0m\u001b[1;33m\u001b[0m\u001b[1;33m\u001b[0m\u001b[0m\n\u001b[1;32m-> 1561\u001b[1;33m         \u001b[1;32mfor\u001b[0m \u001b[0msentence_no\u001b[0m\u001b[1;33m,\u001b[0m \u001b[0msentence\u001b[0m \u001b[1;32min\u001b[0m \u001b[0menumerate\u001b[0m\u001b[1;33m(\u001b[0m\u001b[0msentences\u001b[0m\u001b[1;33m)\u001b[0m\u001b[1;33m:\u001b[0m\u001b[1;33m\u001b[0m\u001b[1;33m\u001b[0m\u001b[0m\n\u001b[0m\u001b[0;32m   1562\u001b[0m             \u001b[1;32mif\u001b[0m \u001b[1;32mnot\u001b[0m \u001b[0mchecked_string_types\u001b[0m\u001b[1;33m:\u001b[0m\u001b[1;33m\u001b[0m\u001b[1;33m\u001b[0m\u001b[0m\n\u001b[0;32m   1563\u001b[0m                 \u001b[1;32mif\u001b[0m \u001b[0misinstance\u001b[0m\u001b[1;33m(\u001b[0m\u001b[0msentence\u001b[0m\u001b[1;33m,\u001b[0m \u001b[0mstring_types\u001b[0m\u001b[1;33m)\u001b[0m\u001b[1;33m:\u001b[0m\u001b[1;33m\u001b[0m\u001b[1;33m\u001b[0m\u001b[0m\n",
      "\u001b[1;32m<ipython-input-22-bb46d162c087>\u001b[0m in \u001b[0;36m__iter__\u001b[1;34m(self)\u001b[0m\n\u001b[0;32m     77\u001b[0m                 \u001b[1;32mif\u001b[0m \u001b[0mi\u001b[0m \u001b[1;33m>\u001b[0m \u001b[0mself\u001b[0m\u001b[1;33m.\u001b[0m\u001b[0mlimit\u001b[0m\u001b[1;33m:\u001b[0m\u001b[1;33m\u001b[0m\u001b[1;33m\u001b[0m\u001b[0m\n\u001b[0;32m     78\u001b[0m                     \u001b[1;32mreturn\u001b[0m\u001b[1;33m\u001b[0m\u001b[1;33m\u001b[0m\u001b[0m\n\u001b[1;32m---> 79\u001b[1;33m                 \u001b[1;32myield\u001b[0m \u001b[0mself\u001b[0m\u001b[1;33m.\u001b[0m\u001b[0mpreprocess\u001b[0m\u001b[1;33m(\u001b[0m\u001b[0mline\u001b[0m\u001b[1;33m,\u001b[0m \u001b[0mself\u001b[0m\u001b[1;33m.\u001b[0m\u001b[0mdelim\u001b[0m\u001b[1;33m,\u001b[0m \u001b[0mi\u001b[0m\u001b[1;33m)\u001b[0m\u001b[1;33m\u001b[0m\u001b[1;33m\u001b[0m\u001b[0m\n\u001b[0m\u001b[0;32m     80\u001b[0m \u001b[1;33m\u001b[0m\u001b[0m\n\u001b[0;32m     81\u001b[0m \u001b[1;33m\u001b[0m\u001b[0m\n",
      "\u001b[1;32m<ipython-input-22-bb46d162c087>\u001b[0m in \u001b[0;36mpreprocess\u001b[1;34m(self, line, delim, sent_index)\u001b[0m\n\u001b[0;32m     62\u001b[0m         \u001b[0mline\u001b[0m \u001b[1;33m=\u001b[0m \u001b[0mline\u001b[0m\u001b[1;33m.\u001b[0m\u001b[0mlower\u001b[0m\u001b[1;33m(\u001b[0m\u001b[1;33m)\u001b[0m\u001b[1;33m\u001b[0m\u001b[1;33m\u001b[0m\u001b[0m\n\u001b[0;32m     63\u001b[0m         \u001b[0mcolumns\u001b[0m \u001b[1;33m=\u001b[0m \u001b[0mline\u001b[0m\u001b[1;33m.\u001b[0m\u001b[0msplit\u001b[0m\u001b[1;33m(\u001b[0m\u001b[0mself\u001b[0m\u001b[1;33m.\u001b[0m\u001b[0mdelim\u001b[0m\u001b[1;33m)\u001b[0m\u001b[1;33m\u001b[0m\u001b[1;33m\u001b[0m\u001b[0m\n\u001b[1;32m---> 64\u001b[1;33m         \u001b[0msentence\u001b[0m \u001b[1;33m=\u001b[0m \u001b[0mcolumns\u001b[0m\u001b[1;33m[\u001b[0m\u001b[0msent_index\u001b[0m\u001b[1;33m]\u001b[0m\u001b[1;33m\u001b[0m\u001b[1;33m\u001b[0m\u001b[0m\n\u001b[0m\u001b[0;32m     65\u001b[0m         \u001b[0mwords\u001b[0m \u001b[1;33m=\u001b[0m \u001b[0msentence\u001b[0m\u001b[1;33m.\u001b[0m\u001b[0msplit\u001b[0m\u001b[1;33m(\u001b[0m\u001b[1;33m)\u001b[0m\u001b[1;33m\u001b[0m\u001b[1;33m\u001b[0m\u001b[0m\n\u001b[0;32m     66\u001b[0m         \u001b[1;32mreturn\u001b[0m \u001b[0mwords\u001b[0m\u001b[1;33m\u001b[0m\u001b[1;33m\u001b[0m\u001b[0m\n",
      "\u001b[1;31mIndexError\u001b[0m: list index out of range"
     ]
    }
   ],
   "source": [
    "'''\n",
    "-------------------------------------------------\n",
    "objective: train a FastText word embedding model\n",
    "-------------------------------------------------\n",
    "use gensim to train a model. Follow the documentation for an example\n",
    "'''\n",
    "\n",
    "from gensim.models import FastText\n",
    "sentences = Sentences(got_dialogue_file, delim=\";\", encoding=\"utf-8-sig\")\n",
    "model = FastText(size=100, window=8, min_count=4)\n",
    "model.build_vocab(sentences)\n",
    "model.train(sentences=sentences, total_examples=model.corpus_count, epochs=100)\n"
   ]
  },
  {
   "cell_type": "markdown",
   "metadata": {},
   "source": [
    "## What's happening when we train?\n",
    "\n",
    "We then iterate through the data, to build the vocabulary. This determines which words are frequent enough to build vectors for, which words will be included in the model. \n",
    "\n",
    "At the start of training the model, the weights for the word embeddings are randomly initialized. Then the model iterates through the data, making predictions. \n",
    "\n",
    "![Prediction/Inference Step](figures/nn-inference.gif)\n",
    "\n",
    "Then we evaluate how far off we were using the cost function.\n",
    "![Calculating the loss](figures/nn-cost.gif)\n",
    "\n",
    "After training completes, we take the weight matrix. Each row corresponds to a word in our vocabulary. These vectors live in 300 dimensional space!"
   ]
  },
  {
   "cell_type": "code",
   "execution_count": null,
   "metadata": {},
   "outputs": [],
   "source": [
    "# you can accesss the vectors from the model using model.wv\n",
    "# and keying in like a dictionary\n"
   ]
  },
  {
   "cell_type": "code",
   "execution_count": null,
   "metadata": {},
   "outputs": [],
   "source": [
    "# what about words that aren't in the corpus?\n"
   ]
  },
  {
   "cell_type": "markdown",
   "metadata": {},
   "source": [
    "## What can we do with word embeddings?\n",
    "\n",
    "Similar vectors imply semantically similar concepts. Vectors that live in the same space mean very similar things. Let's use the similarity of vectors to find similar words."
   ]
  },
  {
   "cell_type": "markdown",
   "metadata": {},
   "source": [
    "What makes a vector similar to another one?"
   ]
  },
  {
   "cell_type": "markdown",
   "metadata": {},
   "source": [
    "Let me show you. Our vectors had a large dimension (100? 300?), but that's difficult to visualize. We can use an algorithm like [t-SNE](https://en.wikipedia.org/wiki/T-distributed_stochastic_neighbor_embedding) to visualize in 2 or 3 dimensions more easily. \n",
    "\n",
    "Here's an example of word embeddings that have undergone t-SNE.\n",
    "![word embeddings plotted](figures/word-embedding-clusters.png)\n",
    "\n",
    "Words with similar meanings are close together in space! We lose some information in the dimension reduction to plot in 2d space -- which may be why the months are shown in two different places, but there may be another more meaningful reason."
   ]
  },
  {
   "cell_type": "markdown",
   "metadata": {},
   "source": [
    "_Okay, but how can I tell which things are close without that loss of information from the dimension reduction? I don't need a picture, I just want numbers._"
   ]
  },
  {
   "cell_type": "markdown",
   "metadata": {},
   "source": [
    "We need to use a distance [metric](https://en.wikipedia.org/wiki/Metric_(mathematics)#:~:targetText=In%20mathematics%2C%20a%20metric%20or,of%20elements%20of%20a%20set.&targetText=A%20metric%20induces%20a%20topology,a%20metric%20is%20called%20metrizable.). The closer two vectors are, the more similar their meanings tend to be. \n",
    "\n",
    "Here's a dirty secret topologist's won't tell you: You can define distance however you want to. There's no universal distance metric that works well in all spaces, on all data sets, or on all concepts.\n",
    "\n",
    "Let's talk about two commonly used distance metrics.\n",
    "\n",
    "![vector similarity](figures/The-difference-between-Euclidean-distance-and-cosine-similarity.png)\n",
    "\n",
    "| Metric        | pro           | con   |\n",
    "| ------------- |-------------| -----|\n",
    "| euclidean     | distance ranges from \\[0, inf\\]             | takes the magnitude of the vectors into account |\n",
    "| cosine        | captures difference in direction of vectors | bounded \\[0,2\\] |\n",
    "\n",
    "In practice, cosine similarity _usually_ gives more insightful results than euclidean, likely because of the issues with vectors of significantly different magnitudes."
   ]
  },
  {
   "cell_type": "code",
   "execution_count": null,
   "metadata": {},
   "outputs": [],
   "source": [
    "# update new terms dictionary \n",
    "# distance metric\n",
    "d[\"distance metric\"] = \"how to measure the space between two vectors\""
   ]
  },
  {
   "cell_type": "code",
   "execution_count": 25,
   "metadata": {},
   "outputs": [
    {
     "ename": "NameError",
     "evalue": "name 'model' is not defined",
     "output_type": "error",
     "traceback": [
      "\u001b[1;31m---------------------------------------------------------------------------\u001b[0m",
      "\u001b[1;31mNameError\u001b[0m                                 Traceback (most recent call last)",
      "\u001b[1;32m<ipython-input-25-027386abbd77>\u001b[0m in \u001b[0;36m<module>\u001b[1;34m\u001b[0m\n\u001b[0;32m      6\u001b[0m \u001b[1;31m# we've checked for you: gensim uses cosine similarity\u001b[0m\u001b[1;33m\u001b[0m\u001b[1;33m\u001b[0m\u001b[1;33m\u001b[0m\u001b[0m\n\u001b[0;32m      7\u001b[0m \u001b[1;33m\u001b[0m\u001b[0m\n\u001b[1;32m----> 8\u001b[1;33m \u001b[0mmodel\u001b[0m\u001b[1;33m.\u001b[0m\u001b[0mwv\u001b[0m\u001b[1;33m.\u001b[0m\u001b[0mmost_similar\u001b[0m\u001b[1;33m(\u001b[0m\u001b[1;34m\"dragon\"\u001b[0m\u001b[1;33m)\u001b[0m\u001b[1;33m\u001b[0m\u001b[1;33m\u001b[0m\u001b[0m\n\u001b[0m",
      "\u001b[1;31mNameError\u001b[0m: name 'model' is not defined"
     ]
    }
   ],
   "source": [
    "# gensim builds in this funcitonality for you! Checkout model.wv.most_similar()\n",
    "# they use cosine similarity, a score between 0 and 1, 1 meaning very similar\n",
    "\n",
    "# CAUTION: there's also cosine _distance_ which returns a score between 0 and 2 \n",
    "#          where 0 means most similar. Always double check your cosine function\n",
    "# we've checked for you: gensim uses cosine similarity\n",
    "from gensim.models import FastText\n",
    "model.wv.most_similar(\"dragon\")"
   ]
  },
  {
   "cell_type": "code",
   "execution_count": null,
   "metadata": {
    "scrolled": true
   },
   "outputs": [],
   "source": [
    "# we can even plot these vectors in space using t-SNE\n",
    "# we've implemented this funciton for you for the sake of time\n",
    "\n",
    "import numpy as np\n",
    "import matplotlib.pyplot as plt\n",
    "import matplotlib.cm as cm\n",
    "import os\n",
    "from gensim.models import FastText\n",
    "import pandas as pd\n",
    "from sklearn.manifold import TSNE\n",
    "\n",
    "def plot_word_vectors(word_lists, model):\n",
    "    all_words = [word for words in word_lists for word in words]\n",
    "    \n",
    "    X = [model.wv[word] for word in all_words]\n",
    "    tsne = TSNE(n_components=2)\n",
    "    X_tsne = tsne.fit_transform(X)\n",
    "    \n",
    "    df = pd.DataFrame(X_tsne, index=all_words, columns=['x', 'y'])\n",
    "    \n",
    "    dfs = [df.loc[words] for words in word_lists]\n",
    "    \n",
    "    fig = plt.figure()\n",
    "    ax = fig.add_subplot(1,1,1)\n",
    "    \n",
    "    colors = cm.rainbow(np.linspace(0,1, len(dfs)))\n",
    "    for df, color in zip(dfs, colors):\n",
    "        ax.scatter(df['x'], df['y'], color=color)\n",
    "    \n",
    "    for df in dfs:\n",
    "        for word, row in df.iterrows():\n",
    "            plt.text(row['x'], row['y'], word)\n",
    "    plt.show()\n",
    "\n",
    "words = [\n",
    "    [word for word, _ in model.wv.most_similar('winter', topn=20)],\n",
    "    [word for word, _ in model.wv.most_similar('dragon', topn=20)],\n",
    "    [word for word, _ in model.wv.most_similar('wedding', topn=20)],\n",
    "]\n",
    "plot_word_vectors(words, model)"
   ]
  },
  {
   "cell_type": "markdown",
   "metadata": {},
   "source": [
    "#### What is lost with a dimensionality reduction technique?\n",
    "\n",
    "Think about looking at this data set from different angles. \n",
    "![3d data](figures/3d-scatter-plot-rotate.gif)\n",
    "\n",
    "When you're viewing high dimensional data in lower dimensions, you don't get the best idea for what's really happening. But it can be insightful."
   ]
  },
  {
   "cell_type": "markdown",
   "metadata": {},
   "source": [
    "### Searching for more than one word at a time"
   ]
  },
  {
   "cell_type": "code",
   "execution_count": null,
   "metadata": {},
   "outputs": [],
   "source": [
    "# gensim also allows you to search for multiple concepts\n"
   ]
  },
  {
   "cell_type": "markdown",
   "metadata": {},
   "source": [
    "How does it know what to pull back for more than one word?"
   ]
  },
  {
   "cell_type": "markdown",
   "metadata": {},
   "source": [
    "It takes an average of the vectors provided in the list of positive objects. "
   ]
  },
  {
   "cell_type": "code",
   "execution_count": null,
   "metadata": {},
   "outputs": [],
   "source": [
    "# let's show this in 2 dimensions\n",
    "v1 = np.random.uniform(low=-5, high=5, size=2)\n",
    "v2 = np.random.uniform(low=-5, high=5, size=2)\n",
    "print(f\"v1: {v1}\")\n",
    "print(f\"v2: {v2}\")\n",
    "\n",
    "avg_v = np.average([v1, v2], axis=0)\n",
    "print(f\"avg_v: {avg_v}\")\n",
    "\n",
    "V = [v1, v2, avg_v]\n",
    "\n",
    "# let's plot these vectors using matplotlib\n",
    "plt.quiver(v1[0], v1[1], color='r', scale=21)\n",
    "plt.quiver(v2[0], v2[0], color='b', scale=21)\n",
    "plt.quiver(avg_v[0], avg_v[1], color='g', scale=21)\n",
    "plt.show()"
   ]
  },
  {
   "cell_type": "markdown",
   "metadata": {},
   "source": [
    "Does the average vector always look like it's it in the right spot? \n",
    "\n",
    "There may be a better function to use, but gensim implemented it this way. \n",
    "\n",
    "When two vectors are close together, this functionality makes a lot of sense. Find the word most similar to the average of these two words. But when two vectors are pointing in opposite directions, the average would be the origin, something kind of far away from both of those vectors. When giving examples, make sure your examples are similar enough to get reasonable results. "
   ]
  },
  {
   "cell_type": "markdown",
   "metadata": {},
   "source": [
    "Gensim also offers the ability to include negative examples\n",
    "\n",
    "In fact, there are many papers publishing results from training word embeddings with such fantastic examples as `\"king\" - \"man\" + \"woman\" ≈ \"queen\"`. Let's see how this work on our data set. "
   ]
  },
  {
   "cell_type": "code",
   "execution_count": null,
   "metadata": {},
   "outputs": [],
   "source": [
    "# implement the analogy by using 'king' and 'woman' in the positive params\n",
    "# and 'man' in the negative param\n"
   ]
  },
  {
   "cell_type": "markdown",
   "metadata": {},
   "source": [
    "This result is amazing (and famous).\n",
    "\n",
    "![analogies](figures/king-queen-analogy.png)\n",
    "\n",
    "But does it always work?"
   ]
  },
  {
   "cell_type": "code",
   "execution_count": 29,
   "metadata": {},
   "outputs": [
    {
     "data": {
      "text/plain": [
       "[]"
      ]
     },
     "execution_count": 29,
     "metadata": {},
     "output_type": "execute_result"
    }
   ],
   "source": [
    "# try a couple other anologies to see if they work!\n",
    "# here's one to get you started \n",
    "\n",
    "model.wv.most_similar(positive=['fight'], negative=['smart'])"
   ]
  },
  {
   "cell_type": "code",
   "execution_count": null,
   "metadata": {},
   "outputs": [],
   "source": [
    "# can you find an analogy that works?"
   ]
  },
  {
   "cell_type": "markdown",
   "metadata": {},
   "source": [
    "Not as much luck in other analogy examples.\n",
    "\n",
    "This [paper](https://kawine.github.io/blog/nlp/2019/06/21/word-analogies.html) proves the conditions necessary for these incredible analogies to work. In short, more data likely solves this problem. \n",
    "\n",
    "![When analogies work](figures/when-analogies-work.png)\n",
    "\n",
    "\n",
    "In research, we've tried to figure out the best way to incorporate negative examples into our searches, but we just haven't found a consistently useful result. We also aren't using our word embeddings for analogies, so we don't want to get too hung up on this. "
   ]
  },
  {
   "cell_type": "code",
   "execution_count": 32,
   "metadata": {},
   "outputs": [
    {
     "ename": "FileExistsError",
     "evalue": "[WinError 183] Cannot create a file when that file already exists: 'models'",
     "output_type": "error",
     "traceback": [
      "\u001b[1;31m---------------------------------------------------------------------------\u001b[0m",
      "\u001b[1;31mFileExistsError\u001b[0m                           Traceback (most recent call last)",
      "\u001b[1;32m<ipython-input-32-734b89365a02>\u001b[0m in \u001b[0;36m<module>\u001b[1;34m\u001b[0m\n\u001b[0;32m      5\u001b[0m \u001b[0msave_path\u001b[0m \u001b[1;33m=\u001b[0m \u001b[0mos\u001b[0m\u001b[1;33m.\u001b[0m\u001b[0mpath\u001b[0m\u001b[1;33m.\u001b[0m\u001b[0mjoin\u001b[0m\u001b[1;33m(\u001b[0m\u001b[1;34m'models'\u001b[0m\u001b[1;33m,\u001b[0m \u001b[1;34m'got_ft.model'\u001b[0m\u001b[1;33m)\u001b[0m\u001b[1;33m\u001b[0m\u001b[1;33m\u001b[0m\u001b[0m\n\u001b[0;32m      6\u001b[0m \u001b[1;32mif\u001b[0m \u001b[1;32mnot\u001b[0m \u001b[0mos\u001b[0m\u001b[1;33m.\u001b[0m\u001b[0mpath\u001b[0m\u001b[1;33m.\u001b[0m\u001b[0misdir\u001b[0m\u001b[1;33m(\u001b[0m\u001b[1;34m\"modles\"\u001b[0m\u001b[1;33m)\u001b[0m\u001b[1;33m:\u001b[0m\u001b[1;33m\u001b[0m\u001b[1;33m\u001b[0m\u001b[0m\n\u001b[1;32m----> 7\u001b[1;33m     \u001b[0mos\u001b[0m\u001b[1;33m.\u001b[0m\u001b[0mmkdir\u001b[0m\u001b[1;33m(\u001b[0m\u001b[1;34m\"models\"\u001b[0m\u001b[1;33m)\u001b[0m\u001b[1;33m\u001b[0m\u001b[1;33m\u001b[0m\u001b[0m\n\u001b[0m\u001b[0;32m      8\u001b[0m \u001b[0mmodel\u001b[0m\u001b[1;33m.\u001b[0m\u001b[0msave\u001b[0m\u001b[1;33m(\u001b[0m\u001b[0msave_path\u001b[0m\u001b[1;33m)\u001b[0m\u001b[1;33m\u001b[0m\u001b[1;33m\u001b[0m\u001b[0m\n",
      "\u001b[1;31mFileExistsError\u001b[0m: [WinError 183] Cannot create a file when that file already exists: 'models'"
     ]
    }
   ],
   "source": [
    "# let's save our model for further use\n",
    "# create the directory 'models'\n",
    "# and save the model as 'got_ft.model'\n",
    "\n",
    "save_path = os.path.join('models', 'got_ft.model')\n",
    "if not os.path.isdir(\"modles\"):\n",
    "    os.mkdir(\"models\")\n",
    "model.save(save_path)\n"
   ]
  },
  {
   "cell_type": "markdown",
   "metadata": {},
   "source": [
    "### Other values of word embeddings coming from automatically transcribed speech data\n",
    "\n",
    "- we capture aliases! \n",
    "- we get tons of insight from the specific context of call centers"
   ]
  },
  {
   "cell_type": "markdown",
   "metadata": {},
   "source": [
    "# Summary - What did we learn today?\n",
    "- ways of training word embeddings\n",
    "    - raw counts from the data\n",
    "        - can't handle out-of-vocab words\n",
    "        - captures contextually similar words\n",
    "    - neural methods: FastText\n",
    "        - captures character similarities as well as contextual similarities\n",
    "- how to use word embeddings\n",
    "    - find similar words\n",
    "    - search for more than one word at a time\n",
    "    - search for \"a\", and \"b\", but not like \"c\" with questionable results"
   ]
  },
  {
   "cell_type": "code",
   "execution_count": null,
   "metadata": {},
   "outputs": [],
   "source": [
    "# let's review our dictionary of new terms\n",
    "from pprint import pprint\n"
   ]
  },
  {
   "cell_type": "markdown",
   "metadata": {},
   "source": [
    "# Survey !!!\n",
    "\n",
    "Please complete the [course survey](https://forms.office.com/Pages/ResponsePage.aspx?id=gwv7BWBlfUGFbTjusOst_QYpnoW2nrtJmgVZLQ3gu25UMURGMDdaUTA0QUhJQTM3NlMxNE9GVVkyRC4u)"
   ]
  }
 ],
 "metadata": {
  "kernelspec": {
   "display_name": "Python 3",
   "language": "python",
   "name": "python3"
  },
  "language_info": {
   "codemirror_mode": {
    "name": "ipython",
    "version": 3
   },
   "file_extension": ".py",
   "mimetype": "text/x-python",
   "name": "python",
   "nbconvert_exporter": "python",
   "pygments_lexer": "ipython3",
   "version": "3.7.4"
  }
 },
 "nbformat": 4,
 "nbformat_minor": 2
}
